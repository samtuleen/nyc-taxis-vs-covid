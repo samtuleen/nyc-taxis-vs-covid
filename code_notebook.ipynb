{
 "cells": [
  {
   "cell_type": "code",
   "execution_count": null,
   "metadata": {},
   "outputs": [],
   "source": [
    "import pandas as pd\n",
    "import numpy as np\n",
    "import seaborn as sns\n",
    "import matplotlib.pyplot as plt\n",
    "from datetime import datetime, date\n",
    "import plotly.graph_objects as go\n",
    "import warnings\n",
    "\n",
    "warnings.filterwarnings(\"ignore\")"
   ]
  },
  {
   "cell_type": "code",
   "execution_count": null,
   "metadata": {},
   "outputs": [],
   "source": [
    "taxi_2019 = pd.read_csv('C:\\\\Users\\\\15164\\\\Desktop\\\\nyc-taxis-vs-covid\\\\data\\\\taxi_2019.csv')\n",
    "taxi_2020 = pd.read_csv('C:\\\\Users\\\\15164\\\\Desktop\\\\nyc-taxis-vs-covid\\\\data\\\\taxi_2020.csv')"
   ]
  },
  {
   "cell_type": "code",
   "execution_count": null,
   "metadata": {},
   "outputs": [],
   "source": [
    "taxi_2019.head(2)"
   ]
  },
  {
   "cell_type": "code",
   "execution_count": null,
   "metadata": {},
   "outputs": [],
   "source": [
    "taxi_2020.head(2)"
   ]
  },
  {
   "cell_type": "code",
   "execution_count": null,
   "metadata": {},
   "outputs": [],
   "source": [
    "amounts_19 = taxi_2019[['total_amount', 'month', 'year']]\n",
    "amounts_19 = pd.DataFrame(amounts_19)\n",
    "amounts_20 = taxi_2020[['total_amount', 'month', 'year']]\n",
    "amounts_20 = pd.DataFrame(amounts_20)"
   ]
  },
  {
   "cell_type": "code",
   "execution_count": null,
   "metadata": {},
   "outputs": [],
   "source": [
    "#Dropping January and February because we're examining from March (since the pandemic started March 2020)\n",
    "amounts_19 = amounts_19.drop(amounts_19[(amounts_19['month'] == 'January') | (amounts_19['month'] == 'February')].index)\n",
    "amounts_20 = amounts_20.drop(amounts_20[(amounts_20['month'] == 'January') | (amounts_20['month'] == 'February')].index)"
   ]
  },
  {
   "cell_type": "code",
   "execution_count": null,
   "metadata": {},
   "outputs": [],
   "source": [
    "avg_monthly19 = amounts_19.groupby('month')['total_amount'].mean()\n",
    "avg_monthly19 = pd.DataFrame(avg_monthly19)\n",
    "avg_monthly19.reset_index(inplace=True)\n",
    "avg_monthly19.head(10)"
   ]
  },
  {
   "cell_type": "code",
   "execution_count": null,
   "metadata": {},
   "outputs": [],
   "source": [
    "avg_monthly20 = amounts_20.groupby('month')['total_amount'].mean()\n",
    "avg_monthly20 = pd.DataFrame(avg_monthly20)\n",
    "avg_monthly20.reset_index(inplace=True)\n",
    "avg_monthly20.head(10)"
   ]
  },
  {
   "cell_type": "code",
   "execution_count": null,
   "metadata": {},
   "outputs": [],
   "source": [
    "plt.figure(figsize=(10,7))\n",
    "sns.barplot(x=avg_monthly19['month'], y=avg_monthly19['total_amount'], \n",
    "            color='green', label='Pre Pandemic (2019)', \n",
    "           order = [\"March\", \"April\", \"May\", \"June\", \"July\", \"August\", \"September\", \"October\", \"November\", \"December\"])\n",
    "sns.barplot(x=avg_monthly20['month'], y=avg_monthly20['total_amount'], \n",
    "            color='yellow', label='Peak Pandemic (2020)',\n",
    "           order = [\"March\", \"April\", \"May\", \"June\", \"July\", \"August\", \"September\", \"October\", \"November\", \"December\"])\n",
    "\n",
    "plt.xlabel('Month', fontsize=12, color='blue')\n",
    "plt.title(\"The Difference in Total Amounts Paid Before & During Pandemic\", fontsize=14)\n",
    "plt.ylabel('Average Fare (Dollars)', fontsize=12, color='blue')\n",
    "plt.xticks(rotation=25, horizontalalignment='right', fontsize=10)\n",
    "plt.legend(fontsize=9);"
   ]
  },
  {
   "cell_type": "code",
   "execution_count": null,
   "metadata": {},
   "outputs": [],
   "source": [
    "fig = go.Figure()\n",
    "fig.add_trace(go.Scatter(x=avg_monthly19.index, y=avg_monthly19['total_amount'],\n",
    "                    mode='lines',\n",
    "                    name='Pre-Pandemic'))\n",
    "fig.add_trace(go.Scatter(x=avg_monthly20.index, y=avg_monthly20['total_amount'],\n",
    "                    mode='lines',\n",
    "                    name='Peak Pandemic'))\n",
    "fig.update_layout(\n",
    "    xaxis = dict(\n",
    "        tickmode = 'array',\n",
    "        tickvals = [0, 1, 2, 3, 4, 5, 6, 7, 8, 9, 10, 11],\n",
    "        ticktext = [\"April\", \"August\", \"December\", \"July\", \"June\", \"March\", \"May\", \n",
    "                          \"November\", \"October\", \"September\"]\n",
    "    )\n",
    ")\n",
    "\n",
    "fig.update_layout(legend_title_text = \"Year\")\n",
    "fig.update_xaxes(title_text=\"Month (Alphabetical Order)\")\n",
    "fig.update_yaxes(title_text=\"Average Fare Per Month\")\n",
    "fig.show()"
   ]
  },
  {
   "cell_type": "code",
   "execution_count": null,
   "metadata": {
    "scrolled": true
   },
   "outputs": [],
   "source": [
    "avg_paid20 = avg_monthly20['total_amount'].mean()\n",
    "avg_paid19 = avg_monthly19['total_amount'].mean()\n",
    "print(avg_paid20)\n",
    "print(avg_paid19)"
   ]
  },
  {
   "cell_type": "code",
   "execution_count": null,
   "metadata": {},
   "outputs": [],
   "source": [
    "tips_19 = taxi_2019[['tip_amount', 'month', 'year']]\n",
    "tips_19 = pd.DataFrame(tips_19)\n",
    "tips_20 = taxi_2020[['tip_amount', 'month', 'year']]\n",
    "tips_20 = pd.DataFrame(tips_20)"
   ]
  },
  {
   "cell_type": "code",
   "execution_count": null,
   "metadata": {},
   "outputs": [],
   "source": [
    "tips_19 = tips_19.drop(tips_19[(tips_19['month'] == 'January') | (tips_19['month'] == 'February')].index)\n",
    "tips_20 = tips_20.drop(tips_20[(tips_20['month'] == 'January') | (tips_20['month'] == 'February')].index)"
   ]
  },
  {
   "cell_type": "code",
   "execution_count": null,
   "metadata": {},
   "outputs": [],
   "source": [
    "avg_tips19 = tips_19.groupby('month')['tip_amount'].mean()\n",
    "avg_tips19 = pd.DataFrame(avg_tips19)\n",
    "avg_tips19.reset_index(inplace=True)\n",
    "avg_tips19.head(10)"
   ]
  },
  {
   "cell_type": "code",
   "execution_count": null,
   "metadata": {
    "scrolled": true
   },
   "outputs": [],
   "source": [
    "avg_tips20 = tips_20.groupby('month')['tip_amount'].mean()\n",
    "avg_tips20 = pd.DataFrame(avg_tips20)\n",
    "avg_tips20.reset_index(inplace=True)\n",
    "avg_tips20.head(10)"
   ]
  },
  {
   "cell_type": "code",
   "execution_count": null,
   "metadata": {},
   "outputs": [],
   "source": [
    "fig = go.Figure()\n",
    "fig.add_trace(go.Scatter(x=avg_tips19.index, y=avg_tips19['tip_amount'],\n",
    "                    mode='lines',\n",
    "                    name='Pre-Pandemic'))\n",
    "fig.add_trace(go.Scatter(x=avg_tips20.index, y=avg_tips20['tip_amount'],\n",
    "                    mode='lines',\n",
    "                    name='Peak Pandemic'))\n",
    "fig.update_layout(\n",
    "    xaxis = dict(\n",
    "        tickmode = 'array',\n",
    "        tickvals = [0, 1, 2, 3, 4, 5, 6, 7, 8, 9, 10, 11],\n",
    "        ticktext = [\"April\", \"August\", \"December\", \"July\", \"June\", \"March\", \"May\", \n",
    "                          \"November\", \"October\", \"September\"]\n",
    "    )\n",
    ")\n",
    "\n",
    "fig.update_layout(legend_title_text = \"Year\")\n",
    "fig.update_xaxes(title_text=\"Month (Alphabetical Order)\")\n",
    "fig.update_yaxes(title_text=\"Average Tip Per Month\")\n",
    "fig.show()"
   ]
  },
  {
   "cell_type": "code",
   "execution_count": null,
   "metadata": {},
   "outputs": [],
   "source": [
    "tips20 = avg_tips20['tip_amount'].mean()\n",
    "tips19 = avg_tips19['tip_amount'].mean()\n",
    "print(tips20)\n",
    "print(tips19)"
   ]
  },
  {
   "cell_type": "code",
   "execution_count": null,
   "metadata": {},
   "outputs": [],
   "source": [
    "passengers_19 = taxi_2019[['passenger_count', 'month', 'year']]\n",
    "passengers_19 = pd.DataFrame(passengers_19)\n",
    "passengers_20 = taxi_2020[['passenger_count', 'month', 'year']]\n",
    "passengers_20 = pd.DataFrame(passengers_20)"
   ]
  },
  {
   "cell_type": "code",
   "execution_count": null,
   "metadata": {},
   "outputs": [],
   "source": [
    "passengers_19 = passengers_19.drop(passengers_19[(passengers_19['month'] == 'January') | \n",
    "                                                 (passengers_19['month'] == 'February')].index)\n",
    "passengers_20 = passengers_20.drop(passengers_20[(passengers_20['month'] == 'January') | \n",
    "                                                 (passengers_20['month'] == 'February')].index)"
   ]
  },
  {
   "cell_type": "code",
   "execution_count": null,
   "metadata": {},
   "outputs": [],
   "source": [
    "avg_pass_19 = passengers_19.groupby('month')['passenger_count'].mean()\n",
    "avg_pass_19 = pd.DataFrame(avg_pass_19)\n",
    "avg_pass_19.reset_index(inplace=True)\n",
    "avg_pass_19.head(10)"
   ]
  },
  {
   "cell_type": "code",
   "execution_count": null,
   "metadata": {},
   "outputs": [],
   "source": [
    "avg_pass_20 = passengers_20.groupby('month')['passenger_count'].mean()\n",
    "avg_pass_20 = pd.DataFrame(avg_pass_20)\n",
    "avg_pass_20.reset_index(inplace=True)\n",
    "avg_pass_20.head(10)"
   ]
  },
  {
   "cell_type": "code",
   "execution_count": null,
   "metadata": {},
   "outputs": [],
   "source": [
    "plt.figure(figsize=(10,7))\n",
    "sns.barplot(x=avg_pass_19['month'], y=avg_pass_19['passenger_count'], \n",
    "            color='green', label='Pre Pandemic (2019)', \n",
    "           order = [\"March\", \"April\", \"May\", \"June\", \"July\", \"August\", \"September\", \"October\", \"November\", \"December\"])\n",
    "sns.barplot(x=avg_pass_20['month'], y=avg_pass_20['passenger_count'], \n",
    "            color='yellow', label='Peak Pandemic (2020)',\n",
    "           order = [\"March\", \"April\", \"May\", \"June\", \"July\", \"August\", \"September\", \"October\", \"November\", \"December\"])\n",
    "\n",
    "plt.xlabel('Month', fontsize=12, color='blue')\n",
    "plt.title(\"The Difference in Passenger Count Before & During Pandemic\", fontsize=14)\n",
    "plt.ylabel('Average Fare (Dollars)', fontsize=12, color='blue')\n",
    "plt.xticks(rotation=25, horizontalalignment='right', fontsize=10)\n",
    "plt.legend(fontsize=9);"
   ]
  },
  {
   "cell_type": "code",
   "execution_count": null,
   "metadata": {},
   "outputs": [],
   "source": [
    "pass20 = avg_pass_20['passenger_count'].mean()\n",
    "pass19 = avg_pass_19['passenger_count'].mean()\n",
    "print(pass20)\n",
    "print(pass19)"
   ]
  },
  {
   "cell_type": "code",
   "execution_count": null,
   "metadata": {},
   "outputs": [],
   "source": [
    "most_expensive = taxi_2019.sort_values('total_amount', ascending=False)\n",
    "most_expensive.head(1)"
   ]
  },
  {
   "cell_type": "code",
   "execution_count": null,
   "metadata": {},
   "outputs": [],
   "source": [
    "most_expensive = most_expensive.loc[most_expensive['payment_type'].isin([1.0, 2.0])]\n",
    "most_expensive.head(1)"
   ]
  },
  {
   "cell_type": "code",
   "execution_count": null,
   "metadata": {},
   "outputs": [],
   "source": [
    "least_expensive = taxi_2019.sort_values('total_amount', ascending=True)\n",
    "least_expensive.head(1)"
   ]
  },
  {
   "cell_type": "code",
   "execution_count": null,
   "metadata": {},
   "outputs": [],
   "source": [
    "most_expensive = taxi_2020.sort_values('total_amount', ascending=False)\n",
    "most_expensive.head(1)"
   ]
  },
  {
   "cell_type": "code",
   "execution_count": null,
   "metadata": {},
   "outputs": [],
   "source": [
    "most_expensive2 = most_expensive.loc[most_expensive['payment_type'].isin([1.0, 2.0])]\n",
    "most_expensive2.head(1)"
   ]
  },
  {
   "cell_type": "code",
   "execution_count": null,
   "metadata": {},
   "outputs": [],
   "source": [
    "least_expensive = taxi_2020.sort_values('total_amount', ascending=True)\n",
    "least_expensive.head(1)"
   ]
  },
  {
   "cell_type": "code",
   "execution_count": null,
   "metadata": {},
   "outputs": [],
   "source": [
    "least_expensive = least_expensive.loc[least_expensive['PULocationID'] != least_expensive['DOLocationID']]\n",
    "least_expensive = least_expensive.loc[least_expensive['payment_type'].isin([1.0, 2.0])]\n",
    "least_expensive.head(1)"
   ]
  },
  {
   "cell_type": "code",
   "execution_count": null,
   "metadata": {
    "scrolled": true
   },
   "outputs": [],
   "source": [
    "payment_type_count = taxi_2020['payment_type'].value_counts()\n",
    "payment_types = pd.DataFrame(payment_type_count)\n",
    "#Rename the columns\n",
    "payment_types.reset_index(inplace=True)\n",
    "payment_types = payment_types.rename(columns = {'index':'Payment Type', 'payment_type':'Count'})\n",
    "payment_types.head(6)"
   ]
  },
  {
   "cell_type": "code",
   "execution_count": null,
   "metadata": {},
   "outputs": [],
   "source": [
    "data = {'Code':[1.0, 2.0, 3.0, 4.0, 5.0, 6.0],\n",
    "        'Payment':['Credit Card', 'Cash', 'No Charge', 'Dispute', 'Unknown', 'Voided Trip']}\n",
    "  \n",
    "data_dict = pd.DataFrame(data)\n",
    "data_dict.set_index('Code', inplace=True)\n",
    "data_dict.head(6)"
   ]
  },
  {
   "cell_type": "code",
   "execution_count": null,
   "metadata": {},
   "outputs": [],
   "source": [
    "# Converting to a string for easy manipulation\n",
    "payment_types['Payment Type']= payment_types['Payment Type'].astype(str)\n",
    "#Replacing the code numbers with the payment type\n",
    "payment_types['Payment Type']= payment_types['Payment Type'].replace({'1.0': 'CreditCard', '2.0': 'Cash',\n",
    "                                                                      '3.0': 'NoCharge','4.0': 'Dispute', \n",
    "                                                                      '5.0': 'Unknown', '6.0': 'VoidedTrip'})\n",
    "payment_types.head()"
   ]
  },
  {
   "cell_type": "code",
   "execution_count": null,
   "metadata": {
    "scrolled": true
   },
   "outputs": [],
   "source": [
    "payment_type_count = taxi_2019['payment_type'].value_counts()\n",
    "payment_types_pre = pd.DataFrame(payment_type_count)\n",
    "#Rename the columns\n",
    "payment_types_pre.reset_index(inplace=True)\n",
    "payment_types_pre = payment_types_pre.rename(columns = {'index':'Payment Type', 'payment_type':'Count'})\n",
    "#Converting the column values from an int64 to a string for easy manipulation\n",
    "payment_types_pre['Payment Type']= payment_types_pre['Payment Type'].astype(str)\n",
    "payment_types_pre['Payment Type']= payment_types_pre['Payment Type'].replace({'1.0': 'CreditCard', '2.0': 'Cash',\n",
    "                                                                      '3.0': 'NoCharge','4.0': 'Dispute', \n",
    "                                                                      '5.0': 'Unknown', '6.0': 'VoidedTrip'})\n",
    "payment_types_pre.head()"
   ]
  },
  {
   "cell_type": "code",
   "execution_count": null,
   "metadata": {},
   "outputs": [],
   "source": [
    "plt.figure(figsize=(15,12))\n",
    "sns.barplot(x=payment_types_pre['Payment Type'], y=payment_types_pre['Count'], \n",
    "            color='green', label='Pre Pandemic')\n",
    "sns.barplot(x=payment_types['Payment Type'], y=payment_types['Count'], \n",
    "            color='yellow', label='Peak Pandemic')\n",
    "plt.xlabel('Payment Type', fontsize=12, color='blue')\n",
    "plt.title(\"Payment Types Before and During the Pandemic\", fontsize=14)\n",
    "plt.ylabel('Count (Millions)', fontsize=12, color='blue')\n",
    "plt.xticks(rotation=25, horizontalalignment='right', fontsize=10)\n",
    "plt.legend(fontsize=12);"
   ]
  },
  {
   "cell_type": "code",
   "execution_count": null,
   "metadata": {
    "scrolled": true
   },
   "outputs": [],
   "source": [
    "#Making a new dataframe for the day of the week and fare amount columns\n",
    "days_fares = taxi_2019[['day_of_week', 'fare_amount']]\n",
    "days_fares = pd.DataFrame(days_fares)\n",
    "days_fares = days_fares.rename(columns = {'day_of_week':'DayOfWeek', 'fare_amount':'Fare'})\n",
    "#Grouping by the day of the week to find the average fare amount for each day\n",
    "day_fare = days_fares.groupby('DayOfWeek')['Fare'].mean()\n",
    "day_fare = pd.DataFrame(day_fare)\n",
    "#Sorting from highest to lowest\n",
    "day_fare = day_fare.sort_values('Fare', ascending=False)\n",
    "day_fare.reset_index(inplace=True)\n",
    "day_fare.head(7)"
   ]
  },
  {
   "cell_type": "code",
   "execution_count": null,
   "metadata": {
    "scrolled": false
   },
   "outputs": [],
   "source": [
    "plt.figure(figsize=(14,7))\n",
    "ax1 = sns.barplot(x=day_fare['DayOfWeek'], y=day_fare['Fare'], \n",
    "                  order = [ \"Sunday\", \"Monday\", \"Tuesday\", \"Wednesday\", \"Thursday\", \"Friday\", \"Saturday\"],\n",
    "                  palette='viridis')\n",
    "plt.xlabel('Day of Week', fontsize=12)\n",
    "plt.ylabel('Average Fare Amount (Dollars)', fontsize=12)\n",
    "plt.title('Most Expensive Day to Travel 2019', fontsize=14);\n",
    "plt.show()"
   ]
  },
  {
   "cell_type": "code",
   "execution_count": null,
   "metadata": {},
   "outputs": [],
   "source": [
    "days_fares = taxi_2020[['day_of_week', 'fare_amount']]\n",
    "days_fares = pd.DataFrame(days_fares)\n",
    "days_fares = days_fares.rename(columns = {'day_of_week':'DayOfWeek', 'fare_amount':'Fare'})\n",
    "day_fare2 = days_fares.groupby('DayOfWeek')['Fare'].mean()\n",
    "day_fare2 = pd.DataFrame(day_fare2)\n",
    "day_fare2 = day_fare2.sort_values('Fare', ascending=False)\n",
    "day_fare2.reset_index(inplace=True)\n",
    "day_fare2.head()"
   ]
  },
  {
   "cell_type": "code",
   "execution_count": null,
   "metadata": {
    "scrolled": false
   },
   "outputs": [],
   "source": [
    "plt.figure(figsize=(14,7))\n",
    "ax1 = sns.barplot(x=day_fare2['DayOfWeek'], y=day_fare2['Fare'], palette='viridis')\n",
    "plt.xlabel('Day of Week', fontsize=12)\n",
    "plt.ylabel('Average Fare Amount (Dollars)', fontsize=12)\n",
    "plt.title('Most Expensive Day to Travel 2020', fontsize=14);\n",
    "plt.show()"
   ]
  },
  {
   "cell_type": "code",
   "execution_count": null,
   "metadata": {},
   "outputs": [],
   "source": [
    "plt.figure(figsize=(10,7))\n",
    "sns.barplot(x=day_fare['DayOfWeek'], y=day_fare['Fare'], \n",
    "            color='green', label='Pre Pandemic', \n",
    "           order = [ \"Sunday\", \"Monday\", \"Tuesday\", \"Wednesday\", \"Thursday\", \"Friday\", \"Saturday\"],)\n",
    "sns.barplot(x=day_fare2['DayOfWeek'], y=day_fare2['Fare'], \n",
    "            color='yellow', label='Peak Pandemic',\n",
    "           order = [ \"Sunday\", \"Monday\", \"Tuesday\", \"Wednesday\", \"Thursday\", \"Friday\", \"Saturday\"],)\n",
    "plt.xlabel('Day of Week', fontsize=12, color='blue')\n",
    "plt.title(\"Most Expensive Travel Day Before and During the Pandemic\", fontsize=14)\n",
    "plt.ylabel('Average Fare (Dollars)', fontsize=12, color='blue')\n",
    "plt.xticks(rotation=25, horizontalalignment='right', fontsize=10)\n",
    "plt.legend(fontsize=9);"
   ]
  },
  {
   "cell_type": "code",
   "execution_count": null,
   "metadata": {
    "scrolled": true
   },
   "outputs": [],
   "source": [
    "(day_fare['Fare'].mean()) - (day_fare2['Fare'].mean())"
   ]
  }
 ],
 "metadata": {
  "kernelspec": {
   "display_name": "Python 3",
   "language": "python",
   "name": "python3"
  },
  "language_info": {
   "codemirror_mode": {
    "name": "ipython",
    "version": 3
   },
   "file_extension": ".py",
   "mimetype": "text/x-python",
   "name": "python",
   "nbconvert_exporter": "python",
   "pygments_lexer": "ipython3",
   "version": "3.8.5"
  }
 },
 "nbformat": 4,
 "nbformat_minor": 4
}
