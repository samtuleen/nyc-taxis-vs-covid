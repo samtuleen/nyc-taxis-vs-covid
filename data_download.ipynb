{
 "cells": [
  {
   "cell_type": "markdown",
   "metadata": {},
   "source": [
    "# Obtaining the Data"
   ]
  },
  {
   "cell_type": "markdown",
   "metadata": {},
   "source": [
    "This notebook downloads the data directly from the NYC.gov's website."
   ]
  },
  {
   "cell_type": "code",
   "execution_count": 22,
   "metadata": {},
   "outputs": [],
   "source": [
    "from urllib.request import urlretrieve\n",
    "\n",
    "main_dir = \"../data\""
   ]
  },
  {
   "cell_type": "markdown",
   "metadata": {},
   "source": [
    "Since I am focusing on the effects of coronavirus, I will pull yellow taxi data starting from when the pandemic hit in March 2020."
   ]
  },
  {
   "cell_type": "code",
   "execution_count": 24,
   "metadata": {},
   "outputs": [
    {
     "name": "stdout",
     "output_type": "stream",
     "text": [
      "Download of file to ../data complete\n",
      "Download of file to ../data complete\n",
      "Download of file to ../data complete\n",
      "Download of file to ../data complete\n",
      "Download of file to ../data complete\n",
      "Download of file to ../data complete\n",
      "Download of file to ../data complete\n",
      "Download of file to ../data complete\n",
      "Download of file to ../data complete\n",
      "Download of file to ../data complete\n"
     ]
    }
   ],
   "source": [
    "filename = [\"march_2020.csv\",\"april_2020.csv\",\"may_2020.csv\",\"june_2020.csv\",\"july_2020.csv\",\"august_2020.csv\",\n",
    "         \"september_2020.csv\", \"october_2020.csv\", \"november_2020.csv\",\"december_2020.csv\"]\n",
    "\n",
    "urls = [\n",
    "        \"https://s3.amazonaws.com/nyc-tlc/trip+data/yellow_tripdata_2020-03.csv\",\n",
    "        \"https://s3.amazonaws.com/nyc-tlc/trip+data/yellow_tripdata_2020-04.csv\",\n",
    "        \"https://s3.amazonaws.com/nyc-tlc/trip+data/yellow_tripdata_2020-05.csv\",\n",
    "        \"https://s3.amazonaws.com/nyc-tlc/trip+data/yellow_tripdata_2020-06.csv\",\n",
    "        \"https://nyc-tlc.s3.amazonaws.com/trip+data/yellow_tripdata_2020-07.csv\",\n",
    "        \"https://nyc-tlc.s3.amazonaws.com/trip+data/yellow_tripdata_2020-08.csv\",\n",
    "        \"https://nyc-tlc.s3.amazonaws.com/trip+data/yellow_tripdata_2020-09.csv\",\n",
    "        \"https://nyc-tlc.s3.amazonaws.com/trip+data/yellow_tripdata_2020-10.csv\",\n",
    "        \"https://nyc-tlc.s3.amazonaws.com/trip+data/yellow_tripdata_2020-11.csv\",\n",
    "        \"https://nyc-tlc.s3.amazonaws.com/trip+data/yellow_tripdata_2020-12.csv\"]\n",
    "\n",
    "for i in range(len(urls)):\n",
    "        urlretrieve(urls[i], f\"{main_dir}/{filename[i]}\")\n",
    "        print(f\"Download of file to {main_dir} complete\")"
   ]
  },
  {
   "cell_type": "markdown",
   "metadata": {},
   "source": [
    "Also, since I will be comparing the taxi industry's to "
   ]
  },
  {
   "cell_type": "code",
   "execution_count": null,
   "metadata": {},
   "outputs": [],
   "source": [
    "filename = [\"march_2020.csv\",\"april_2020.csv\",\"may_2020.csv\",\"june_2020.csv\",\"july_2020.csv\",\"august_2020.csv\",\n",
    "         \"september_2020.csv\", \"october_2020.csv\", \"november_2020.csv\",\"december_2020.csv\"]\n",
    "\n",
    "urls = [\n",
    "        \"https://s3.amazonaws.com/nyc-tlc/trip+data/yellow_tripdata_2020-03.csv\",\n",
    "        \"https://s3.amazonaws.com/nyc-tlc/trip+data/yellow_tripdata_2020-04.csv\",\n",
    "        \"https://s3.amazonaws.com/nyc-tlc/trip+data/yellow_tripdata_2020-05.csv\",\n",
    "        \"https://s3.amazonaws.com/nyc-tlc/trip+data/yellow_tripdata_2020-06.csv\",\n",
    "        \"https://nyc-tlc.s3.amazonaws.com/trip+data/yellow_tripdata_2020-07.csv\",\n",
    "        \"https://nyc-tlc.s3.amazonaws.com/trip+data/yellow_tripdata_2020-08.csv\",\n",
    "        \"https://nyc-tlc.s3.amazonaws.com/trip+data/yellow_tripdata_2020-09.csv\",\n",
    "        \"https://nyc-tlc.s3.amazonaws.com/trip+data/yellow_tripdata_2020-10.csv\",\n",
    "        \"https://nyc-tlc.s3.amazonaws.com/trip+data/yellow_tripdata_2020-11.csv\",\n",
    "        \"https://nyc-tlc.s3.amazonaws.com/trip+data/yellow_tripdata_2020-12.csv\"]\n",
    "\n",
    "for i in range(len(urls)):\n",
    "        urlretrieve(urls[i], f\"{main_dir}/{filename[i]}\")\n",
    "        print(f\"Download of file to {main_dir} complete\")"
   ]
  }
 ],
 "metadata": {
  "kernelspec": {
   "display_name": "Python 3",
   "language": "python",
   "name": "python3"
  },
  "language_info": {
   "codemirror_mode": {
    "name": "ipython",
    "version": 3
   },
   "file_extension": ".py",
   "mimetype": "text/x-python",
   "name": "python",
   "nbconvert_exporter": "python",
   "pygments_lexer": "ipython3",
   "version": "3.8.5"
  }
 },
 "nbformat": 4,
 "nbformat_minor": 4
}
