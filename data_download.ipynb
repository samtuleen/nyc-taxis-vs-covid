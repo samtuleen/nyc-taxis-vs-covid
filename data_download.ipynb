{
 "cells": [
  {
   "cell_type": "markdown",
   "metadata": {},
   "source": [
    "# Obtaining the Data"
   ]
  },
  {
   "cell_type": "markdown",
   "metadata": {},
   "source": [
    "This notebook downloads the data directly from the NYC.gov's website."
   ]
  },
  {
   "cell_type": "code",
   "execution_count": 1,
   "metadata": {},
   "outputs": [],
   "source": [
    "from urllib.request import urlretrieve\n",
    "\n",
    "main_dir = \"../data/\""
   ]
  },
  {
   "cell_type": "code",
   "execution_count": null,
   "metadata": {},
   "outputs": [],
   "source": [
    "filename = [\"march_data.csv\",\"april_data.csv\",\"may_data.csv\",\"june_data.csv\",\"july_data.csv\",\"august_data.csv\",\n",
    "         \"september_data.csv\", \"october_data.csv\", \n",
    "         \"november_data.csv\",\"december_data.csv\"]\n",
    "\n",
    "urls = [\n",
    "        \"https://s3.amazonaws.com/nyc-tlc/trip+data/yellow_tripdata_2020-03.csv\",\n",
    "        \"https://s3.amazonaws.com/nyc-tlc/trip+data/yellow_tripdata_2020-04.csv\",\n",
    "        \"https://s3.amazonaws.com/nyc-tlc/trip+data/yellow_tripdata_2020-05.csv\",\n",
    "        \"https://s3.amazonaws.com/nyc-tlc/trip+data/yellow_tripdata_2020-06.csv\",\n",
    "        \"https://nyc-tlc.s3.amazonaws.com/trip+data/yellow_tripdata_2020-07.csv\",\n",
    "        \"https://nyc-tlc.s3.amazonaws.com/trip+data/yellow_tripdata_2020-08.csv\",\n",
    "        \"https://nyc-tlc.s3.amazonaws.com/trip+data/yellow_tripdata_2020-09.csv\",\n",
    "        \"https://nyc-tlc.s3.amazonaws.com/trip+data/yellow_tripdata_2020-10.csv\",\n",
    "        \"https://nyc-tlc.s3.amazonaws.com/trip+data/yellow_tripdata_2020-11.csv\",\n",
    "        \"https://nyc-tlc.s3.amazonaws.com/trip+data/yellow_tripdata_2020-12.csv\"]\n",
    "\n",
    "for i in range(len(urls)):\n",
    "        urlretrieve(urls[i], f\"{main_dir}/{filename[i]}\")\n",
    "        print(f\"Download of {filename[i]} to {main_dir} complete\")"
   ]
  }
 ],
 "metadata": {
  "kernelspec": {
   "display_name": "Python 3",
   "language": "python",
   "name": "python3"
  },
  "language_info": {
   "codemirror_mode": {
    "name": "ipython",
    "version": 3
   },
   "file_extension": ".py",
   "mimetype": "text/x-python",
   "name": "python",
   "nbconvert_exporter": "python",
   "pygments_lexer": "ipython3",
   "version": "3.8.5"
  }
 },
 "nbformat": 4,
 "nbformat_minor": 4
}
