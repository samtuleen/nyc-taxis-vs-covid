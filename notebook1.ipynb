{
 "cells": [
  {
   "cell_type": "markdown",
   "metadata": {},
   "source": [
    "# The Effects of the Coronavirus on the NYC Taxi Industry"
   ]
  },
  {
   "cell_type": "markdown",
   "metadata": {},
   "source": [
    "The goal of this project is to answer a number of questions about the effects of the coronavirus on travel by taxi in NYC."
   ]
  },
  {
   "cell_type": "markdown",
   "metadata": {},
   "source": [
    "# Import"
   ]
  },
  {
   "cell_type": "code",
   "execution_count": 1,
   "metadata": {},
   "outputs": [],
   "source": [
    "import pandas as pd\n",
    "import numpy as np\n",
    "import seaborn as sns\n",
    "import matplotlib.pyplot as plt\n",
    "from datetime import datetime, date\n",
    "import warnings\n",
    "\n",
    "warnings.filterwarnings(\"ignore\")"
   ]
  },
  {
   "cell_type": "code",
   "execution_count": null,
   "metadata": {},
   "outputs": [],
   "source": [
    "taxi_2019 = pd.read_csv('C:\\\\Users\\\\15164\\\\Desktop\\\\nyc-taxis-vs-covid\\\\data\\\\taxi_2019.csv')\n",
    "taxi_2020 = pd.read_csv('C:\\\\Users\\\\15164\\\\Desktop\\\\nyc-taxis-vs-covid\\\\data\\\\taxi_2020.csv')"
   ]
  },
  {
   "cell_type": "code",
   "execution_count": 10,
   "metadata": {},
   "outputs": [
    {
     "data": {
      "text/html": [
       "<div>\n",
       "<style scoped>\n",
       "    .dataframe tbody tr th:only-of-type {\n",
       "        vertical-align: middle;\n",
       "    }\n",
       "\n",
       "    .dataframe tbody tr th {\n",
       "        vertical-align: top;\n",
       "    }\n",
       "\n",
       "    .dataframe thead th {\n",
       "        text-align: right;\n",
       "    }\n",
       "</style>\n",
       "<table border=\"1\" class=\"dataframe\">\n",
       "  <thead>\n",
       "    <tr style=\"text-align: right;\">\n",
       "      <th></th>\n",
       "      <th>tpep_pickup_datetime</th>\n",
       "      <th>tpep_dropoff_datetime</th>\n",
       "      <th>passenger_count</th>\n",
       "      <th>trip_distance</th>\n",
       "      <th>PULocationID</th>\n",
       "      <th>DOLocationID</th>\n",
       "      <th>payment_type</th>\n",
       "      <th>fare_amount</th>\n",
       "      <th>tip_amount</th>\n",
       "      <th>tolls_amount</th>\n",
       "      <th>total_amount</th>\n",
       "      <th>day_of_week</th>\n",
       "      <th>Start_Zone</th>\n",
       "      <th>End_Zone</th>\n",
       "    </tr>\n",
       "  </thead>\n",
       "  <tbody>\n",
       "    <tr>\n",
       "      <th>0</th>\n",
       "      <td>2019-03-22 08:22:39</td>\n",
       "      <td>2019-03-22 08:32:50</td>\n",
       "      <td>1.0</td>\n",
       "      <td>1.45</td>\n",
       "      <td>170</td>\n",
       "      <td>107</td>\n",
       "      <td>1.0</td>\n",
       "      <td>8.5</td>\n",
       "      <td>2.95</td>\n",
       "      <td>0.0</td>\n",
       "      <td>14.75</td>\n",
       "      <td>Friday</td>\n",
       "      <td>Murray Hill-Queens</td>\n",
       "      <td>Gravesend</td>\n",
       "    </tr>\n",
       "    <tr>\n",
       "      <th>1</th>\n",
       "      <td>2019-03-21 15:31:46</td>\n",
       "      <td>2019-03-21 15:55:19</td>\n",
       "      <td>1.0</td>\n",
       "      <td>2.00</td>\n",
       "      <td>186</td>\n",
       "      <td>163</td>\n",
       "      <td>1.0</td>\n",
       "      <td>15.0</td>\n",
       "      <td>1.50</td>\n",
       "      <td>0.0</td>\n",
       "      <td>20.80</td>\n",
       "      <td>Thursday</td>\n",
       "      <td>Port Richmond</td>\n",
       "      <td>Midtown South</td>\n",
       "    </tr>\n",
       "  </tbody>\n",
       "</table>\n",
       "</div>"
      ],
      "text/plain": [
       "  tpep_pickup_datetime tpep_dropoff_datetime  passenger_count  trip_distance  \\\n",
       "0  2019-03-22 08:22:39   2019-03-22 08:32:50              1.0           1.45   \n",
       "1  2019-03-21 15:31:46   2019-03-21 15:55:19              1.0           2.00   \n",
       "\n",
       "   PULocationID  DOLocationID  payment_type  fare_amount  tip_amount  \\\n",
       "0           170           107           1.0          8.5        2.95   \n",
       "1           186           163           1.0         15.0        1.50   \n",
       "\n",
       "   tolls_amount  total_amount day_of_week          Start_Zone       End_Zone  \n",
       "0           0.0         14.75      Friday  Murray Hill-Queens      Gravesend  \n",
       "1           0.0         20.80    Thursday       Port Richmond  Midtown South  "
      ]
     },
     "execution_count": 10,
     "metadata": {},
     "output_type": "execute_result"
    }
   ],
   "source": [
    "taxi_2019.head(2)"
   ]
  },
  {
   "cell_type": "code",
   "execution_count": 14,
   "metadata": {},
   "outputs": [
    {
     "data": {
      "text/html": [
       "<div>\n",
       "<style scoped>\n",
       "    .dataframe tbody tr th:only-of-type {\n",
       "        vertical-align: middle;\n",
       "    }\n",
       "\n",
       "    .dataframe tbody tr th {\n",
       "        vertical-align: top;\n",
       "    }\n",
       "\n",
       "    .dataframe thead th {\n",
       "        text-align: right;\n",
       "    }\n",
       "</style>\n",
       "<table border=\"1\" class=\"dataframe\">\n",
       "  <thead>\n",
       "    <tr style=\"text-align: right;\">\n",
       "      <th></th>\n",
       "      <th>tpep_pickup_datetime</th>\n",
       "      <th>tpep_dropoff_datetime</th>\n",
       "      <th>passenger_count</th>\n",
       "      <th>trip_distance</th>\n",
       "      <th>PULocationID</th>\n",
       "      <th>DOLocationID</th>\n",
       "      <th>payment_type</th>\n",
       "      <th>fare_amount</th>\n",
       "      <th>tip_amount</th>\n",
       "      <th>tolls_amount</th>\n",
       "      <th>total_amount</th>\n",
       "      <th>day_of_week</th>\n",
       "      <th>Start_Zone</th>\n",
       "      <th>End_Zone</th>\n",
       "    </tr>\n",
       "  </thead>\n",
       "  <tbody>\n",
       "    <tr>\n",
       "      <th>0</th>\n",
       "      <td>2020-03-08 00:00:33</td>\n",
       "      <td>2020-03-08 00:11:14</td>\n",
       "      <td>2.0</td>\n",
       "      <td>1.06</td>\n",
       "      <td>148</td>\n",
       "      <td>4</td>\n",
       "      <td>1.0</td>\n",
       "      <td>8.0</td>\n",
       "      <td>2.36</td>\n",
       "      <td>0.0</td>\n",
       "      <td>14.16</td>\n",
       "      <td>Sunday</td>\n",
       "      <td>Madison</td>\n",
       "      <td>Arden Heights</td>\n",
       "    </tr>\n",
       "    <tr>\n",
       "      <th>1</th>\n",
       "      <td>2020-03-08 00:02:10</td>\n",
       "      <td>2020-03-08 00:06:24</td>\n",
       "      <td>1.0</td>\n",
       "      <td>0.73</td>\n",
       "      <td>74</td>\n",
       "      <td>41</td>\n",
       "      <td>2.0</td>\n",
       "      <td>5.0</td>\n",
       "      <td>0.00</td>\n",
       "      <td>0.0</td>\n",
       "      <td>6.30</td>\n",
       "      <td>Sunday</td>\n",
       "      <td>East Harlem South</td>\n",
       "      <td>Central Harlem North</td>\n",
       "    </tr>\n",
       "  </tbody>\n",
       "</table>\n",
       "</div>"
      ],
      "text/plain": [
       "  tpep_pickup_datetime tpep_dropoff_datetime  passenger_count  trip_distance  \\\n",
       "0  2020-03-08 00:00:33   2020-03-08 00:11:14              2.0           1.06   \n",
       "1  2020-03-08 00:02:10   2020-03-08 00:06:24              1.0           0.73   \n",
       "\n",
       "   PULocationID  DOLocationID  payment_type  fare_amount  tip_amount  \\\n",
       "0           148             4           1.0          8.0        2.36   \n",
       "1            74            41           2.0          5.0        0.00   \n",
       "\n",
       "   tolls_amount  total_amount day_of_week         Start_Zone  \\\n",
       "0           0.0         14.16      Sunday            Madison   \n",
       "1           0.0          6.30      Sunday  East Harlem South   \n",
       "\n",
       "               End_Zone  \n",
       "0         Arden Heights  \n",
       "1  Central Harlem North  "
      ]
     },
     "execution_count": 14,
     "metadata": {},
     "output_type": "execute_result"
    }
   ],
   "source": [
    "taxi_2020.head(2)"
   ]
  },
  {
   "cell_type": "markdown",
   "metadata": {},
   "source": [
    "# Question 1:\n",
    "The first questions this analysis will answer are the following:\n",
    "\n",
    "**1-** What was the most expensive trip before the pandemic and between what zones did it occur? \n",
    "\n",
    "**2-** What was the least expensive trip before the pandemic and where did it occur?\n",
    "\n",
    "**3-** Conversely, what were the most and least expensive trips during the pandemic and between which zones did they occur?"
   ]
  },
  {
   "cell_type": "markdown",
   "metadata": {},
   "source": [
    "### 1- What was the most expensive trip before the pandemic and between what zones?"
   ]
  },
  {
   "cell_type": "code",
   "execution_count": 16,
   "metadata": {},
   "outputs": [],
   "source": [
    "most_expensive = taxi_2019.sort_values('total_amount', ascending=False)"
   ]
  },
  {
   "cell_type": "code",
   "execution_count": 21,
   "metadata": {},
   "outputs": [
    {
     "data": {
      "text/html": [
       "<div>\n",
       "<style scoped>\n",
       "    .dataframe tbody tr th:only-of-type {\n",
       "        vertical-align: middle;\n",
       "    }\n",
       "\n",
       "    .dataframe tbody tr th {\n",
       "        vertical-align: top;\n",
       "    }\n",
       "\n",
       "    .dataframe thead th {\n",
       "        text-align: right;\n",
       "    }\n",
       "</style>\n",
       "<table border=\"1\" class=\"dataframe\">\n",
       "  <thead>\n",
       "    <tr style=\"text-align: right;\">\n",
       "      <th></th>\n",
       "      <th>tpep_pickup_datetime</th>\n",
       "      <th>tpep_dropoff_datetime</th>\n",
       "      <th>passenger_count</th>\n",
       "      <th>trip_distance</th>\n",
       "      <th>PULocationID</th>\n",
       "      <th>DOLocationID</th>\n",
       "      <th>payment_type</th>\n",
       "      <th>fare_amount</th>\n",
       "      <th>tip_amount</th>\n",
       "      <th>tolls_amount</th>\n",
       "      <th>total_amount</th>\n",
       "      <th>day_of_week</th>\n",
       "      <th>Start_Zone</th>\n",
       "      <th>End_Zone</th>\n",
       "    </tr>\n",
       "  </thead>\n",
       "  <tbody>\n",
       "    <tr>\n",
       "      <th>2036968</th>\n",
       "      <td>2019-03-15 19:00:45</td>\n",
       "      <td>2019-03-15 19:12:48</td>\n",
       "      <td>1.0</td>\n",
       "      <td>0.0</td>\n",
       "      <td>233</td>\n",
       "      <td>79</td>\n",
       "      <td>3.0</td>\n",
       "      <td>943274.8</td>\n",
       "      <td>141492.02</td>\n",
       "      <td>0.0</td>\n",
       "      <td>1084772.17</td>\n",
       "      <td>Friday</td>\n",
       "      <td>Union Sq</td>\n",
       "      <td>East Williamsburg</td>\n",
       "    </tr>\n",
       "  </tbody>\n",
       "</table>\n",
       "</div>"
      ],
      "text/plain": [
       "        tpep_pickup_datetime tpep_dropoff_datetime  passenger_count  \\\n",
       "2036968  2019-03-15 19:00:45   2019-03-15 19:12:48              1.0   \n",
       "\n",
       "         trip_distance  PULocationID  DOLocationID  payment_type  fare_amount  \\\n",
       "2036968            0.0           233            79           3.0     943274.8   \n",
       "\n",
       "         tip_amount  tolls_amount  total_amount day_of_week Start_Zone  \\\n",
       "2036968   141492.02           0.0    1084772.17      Friday   Union Sq   \n",
       "\n",
       "                  End_Zone  \n",
       "2036968  East Williamsburg  "
      ]
     },
     "execution_count": 21,
     "metadata": {},
     "output_type": "execute_result"
    }
   ],
   "source": [
    "most_expensive.head(1)"
   ]
  },
  {
   "cell_type": "markdown",
   "metadata": {},
   "source": [
    "As we can see above, according to our data **the most expensive trip in 2019 occured on March 15th and was for a total amount of a whopping $1,084,772.17. It was between Union Square and East Williamsburg.**"
   ]
  },
  {
   "cell_type": "markdown",
   "metadata": {},
   "source": [
    "### 2 - What was the least expensive trip before the pandemic and where did it occur?"
   ]
  },
  {
   "cell_type": "code",
   "execution_count": 26,
   "metadata": {},
   "outputs": [],
   "source": [
    "least_expensive = taxi_2019.loc[taxi_2019['total_amount'] > 0]"
   ]
  },
  {
   "cell_type": "code",
   "execution_count": 27,
   "metadata": {},
   "outputs": [],
   "source": [
    "least_expensive = least_expensive.sort_values('total_amount', ascending=True)"
   ]
  },
  {
   "cell_type": "code",
   "execution_count": 4,
   "metadata": {},
   "outputs": [
    {
     "ename": "NameError",
     "evalue": "name 'least_expensive' is not defined",
     "output_type": "error",
     "traceback": [
      "\u001b[1;31m---------------------------------------------------------------------------\u001b[0m",
      "\u001b[1;31mNameError\u001b[0m                                 Traceback (most recent call last)",
      "\u001b[1;32m<ipython-input-4-9d1d1068de8c>\u001b[0m in \u001b[0;36m<module>\u001b[1;34m\u001b[0m\n\u001b[1;32m----> 1\u001b[1;33m \u001b[0mlen\u001b[0m\u001b[1;33m(\u001b[0m\u001b[0mleast_expensive\u001b[0m\u001b[1;33m)\u001b[0m\u001b[1;33m\u001b[0m\u001b[1;33m\u001b[0m\u001b[0m\n\u001b[0m",
      "\u001b[1;31mNameError\u001b[0m: name 'least_expensive' is not defined"
     ]
    }
   ],
   "source": [
    "len(least_expensive)"
   ]
  },
  {
   "cell_type": "code",
   "execution_count": 28,
   "metadata": {},
   "outputs": [
    {
     "data": {
      "text/html": [
       "<div>\n",
       "<style scoped>\n",
       "    .dataframe tbody tr th:only-of-type {\n",
       "        vertical-align: middle;\n",
       "    }\n",
       "\n",
       "    .dataframe tbody tr th {\n",
       "        vertical-align: top;\n",
       "    }\n",
       "\n",
       "    .dataframe thead th {\n",
       "        text-align: right;\n",
       "    }\n",
       "</style>\n",
       "<table border=\"1\" class=\"dataframe\">\n",
       "  <thead>\n",
       "    <tr style=\"text-align: right;\">\n",
       "      <th></th>\n",
       "      <th>tpep_pickup_datetime</th>\n",
       "      <th>tpep_dropoff_datetime</th>\n",
       "      <th>passenger_count</th>\n",
       "      <th>trip_distance</th>\n",
       "      <th>PULocationID</th>\n",
       "      <th>DOLocationID</th>\n",
       "      <th>payment_type</th>\n",
       "      <th>fare_amount</th>\n",
       "      <th>tip_amount</th>\n",
       "      <th>tolls_amount</th>\n",
       "      <th>total_amount</th>\n",
       "      <th>day_of_week</th>\n",
       "      <th>Start_Zone</th>\n",
       "      <th>End_Zone</th>\n",
       "    </tr>\n",
       "  </thead>\n",
       "  <tbody>\n",
       "    <tr>\n",
       "      <th>6049675</th>\n",
       "      <td>2019-04-01 07:52:30</td>\n",
       "      <td>2019-04-01 07:52:30</td>\n",
       "      <td>1.0</td>\n",
       "      <td>0.0</td>\n",
       "      <td>264</td>\n",
       "      <td>264</td>\n",
       "      <td>2.0</td>\n",
       "      <td>0.01</td>\n",
       "      <td>0.0</td>\n",
       "      <td>0.0</td>\n",
       "      <td>0.01</td>\n",
       "      <td>Monday</td>\n",
       "      <td>NaN</td>\n",
       "      <td>NaN</td>\n",
       "    </tr>\n",
       "  </tbody>\n",
       "</table>\n",
       "</div>"
      ],
      "text/plain": [
       "        tpep_pickup_datetime tpep_dropoff_datetime  passenger_count  \\\n",
       "6049675  2019-04-01 07:52:30   2019-04-01 07:52:30              1.0   \n",
       "\n",
       "         trip_distance  PULocationID  DOLocationID  payment_type  fare_amount  \\\n",
       "6049675            0.0           264           264           2.0         0.01   \n",
       "\n",
       "         tip_amount  tolls_amount  total_amount day_of_week Start_Zone  \\\n",
       "6049675         0.0           0.0          0.01      Monday        NaN   \n",
       "\n",
       "        End_Zone  \n",
       "6049675      NaN  "
      ]
     },
     "execution_count": 28,
     "metadata": {},
     "output_type": "execute_result"
    }
   ],
   "source": [
    "least_expensive.head(1)"
   ]
  },
  {
   "cell_type": "code",
   "execution_count": null,
   "metadata": {},
   "outputs": [],
   "source": []
  }
 ],
 "metadata": {
  "kernelspec": {
   "display_name": "Python 3",
   "language": "python",
   "name": "python3"
  },
  "language_info": {
   "codemirror_mode": {
    "name": "ipython",
    "version": 3
   },
   "file_extension": ".py",
   "mimetype": "text/x-python",
   "name": "python",
   "nbconvert_exporter": "python",
   "pygments_lexer": "ipython3",
   "version": "3.8.5"
  }
 },
 "nbformat": 4,
 "nbformat_minor": 4
}
