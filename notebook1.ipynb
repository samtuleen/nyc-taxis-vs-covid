{
 "cells": [
  {
   "cell_type": "markdown",
   "metadata": {},
   "source": [
    "# The Effects of the Coronavirus on the NYC Taxi Industry"
   ]
  },
  {
   "cell_type": "markdown",
   "metadata": {},
   "source": [
    "The goal of this project is to answer a number of questions about the effects of the coronavirus on travel by taxi in NYC."
   ]
  },
  {
   "cell_type": "markdown",
   "metadata": {},
   "source": [
    "# Import"
   ]
  },
  {
   "cell_type": "code",
   "execution_count": 1,
   "metadata": {},
   "outputs": [],
   "source": [
    "import pandas as pd\n",
    "import numpy as np\n",
    "import seaborn as sns\n",
    "import matplotlib.pyplot as plt\n",
    "from datetime import datetime, date\n",
    "import warnings\n",
    "\n",
    "warnings.filterwarnings(\"ignore\")"
   ]
  },
  {
   "cell_type": "code",
   "execution_count": 2,
   "metadata": {},
   "outputs": [],
   "source": [
    "taxi_2019 = pd.read_csv('C:\\\\Users\\\\15164\\\\Desktop\\\\nyc-taxis-vs-covid\\\\data\\\\taxi_2019.csv')\n",
    "taxi_2020 = pd.read_csv('C:\\\\Users\\\\15164\\\\Desktop\\\\nyc-taxis-vs-covid\\\\data\\\\taxi_2020.csv')"
   ]
  },
  {
   "cell_type": "code",
   "execution_count": 3,
   "metadata": {},
   "outputs": [
    {
     "data": {
      "text/html": [
       "<div>\n",
       "<style scoped>\n",
       "    .dataframe tbody tr th:only-of-type {\n",
       "        vertical-align: middle;\n",
       "    }\n",
       "\n",
       "    .dataframe tbody tr th {\n",
       "        vertical-align: top;\n",
       "    }\n",
       "\n",
       "    .dataframe thead th {\n",
       "        text-align: right;\n",
       "    }\n",
       "</style>\n",
       "<table border=\"1\" class=\"dataframe\">\n",
       "  <thead>\n",
       "    <tr style=\"text-align: right;\">\n",
       "      <th></th>\n",
       "      <th>tpep_pickup_datetime</th>\n",
       "      <th>tpep_dropoff_datetime</th>\n",
       "      <th>passenger_count</th>\n",
       "      <th>trip_distance</th>\n",
       "      <th>PULocationID</th>\n",
       "      <th>DOLocationID</th>\n",
       "      <th>payment_type</th>\n",
       "      <th>fare_amount</th>\n",
       "      <th>tip_amount</th>\n",
       "      <th>tolls_amount</th>\n",
       "      <th>total_amount</th>\n",
       "      <th>day_of_week</th>\n",
       "      <th>Start_Zone</th>\n",
       "      <th>End_Zone</th>\n",
       "    </tr>\n",
       "  </thead>\n",
       "  <tbody>\n",
       "    <tr>\n",
       "      <th>0</th>\n",
       "      <td>2019-03-22 08:22:39</td>\n",
       "      <td>2019-03-22 08:32:50</td>\n",
       "      <td>1.0</td>\n",
       "      <td>1.45</td>\n",
       "      <td>170</td>\n",
       "      <td>107</td>\n",
       "      <td>1.0</td>\n",
       "      <td>8.5</td>\n",
       "      <td>2.95</td>\n",
       "      <td>0.0</td>\n",
       "      <td>14.75</td>\n",
       "      <td>Friday</td>\n",
       "      <td>Murray Hill-Queens</td>\n",
       "      <td>Gravesend</td>\n",
       "    </tr>\n",
       "    <tr>\n",
       "      <th>1</th>\n",
       "      <td>2019-03-21 15:31:46</td>\n",
       "      <td>2019-03-21 15:55:19</td>\n",
       "      <td>1.0</td>\n",
       "      <td>2.00</td>\n",
       "      <td>186</td>\n",
       "      <td>163</td>\n",
       "      <td>1.0</td>\n",
       "      <td>15.0</td>\n",
       "      <td>1.50</td>\n",
       "      <td>0.0</td>\n",
       "      <td>20.80</td>\n",
       "      <td>Thursday</td>\n",
       "      <td>Port Richmond</td>\n",
       "      <td>Midtown South</td>\n",
       "    </tr>\n",
       "  </tbody>\n",
       "</table>\n",
       "</div>"
      ],
      "text/plain": [
       "  tpep_pickup_datetime tpep_dropoff_datetime  passenger_count  trip_distance  \\\n",
       "0  2019-03-22 08:22:39   2019-03-22 08:32:50              1.0           1.45   \n",
       "1  2019-03-21 15:31:46   2019-03-21 15:55:19              1.0           2.00   \n",
       "\n",
       "   PULocationID  DOLocationID  payment_type  fare_amount  tip_amount  \\\n",
       "0           170           107           1.0          8.5        2.95   \n",
       "1           186           163           1.0         15.0        1.50   \n",
       "\n",
       "   tolls_amount  total_amount day_of_week          Start_Zone       End_Zone  \n",
       "0           0.0         14.75      Friday  Murray Hill-Queens      Gravesend  \n",
       "1           0.0         20.80    Thursday       Port Richmond  Midtown South  "
      ]
     },
     "execution_count": 3,
     "metadata": {},
     "output_type": "execute_result"
    }
   ],
   "source": [
    "taxi_2019.head(2)"
   ]
  },
  {
   "cell_type": "code",
   "execution_count": 4,
   "metadata": {},
   "outputs": [
    {
     "data": {
      "text/html": [
       "<div>\n",
       "<style scoped>\n",
       "    .dataframe tbody tr th:only-of-type {\n",
       "        vertical-align: middle;\n",
       "    }\n",
       "\n",
       "    .dataframe tbody tr th {\n",
       "        vertical-align: top;\n",
       "    }\n",
       "\n",
       "    .dataframe thead th {\n",
       "        text-align: right;\n",
       "    }\n",
       "</style>\n",
       "<table border=\"1\" class=\"dataframe\">\n",
       "  <thead>\n",
       "    <tr style=\"text-align: right;\">\n",
       "      <th></th>\n",
       "      <th>tpep_pickup_datetime</th>\n",
       "      <th>tpep_dropoff_datetime</th>\n",
       "      <th>passenger_count</th>\n",
       "      <th>trip_distance</th>\n",
       "      <th>PULocationID</th>\n",
       "      <th>DOLocationID</th>\n",
       "      <th>payment_type</th>\n",
       "      <th>fare_amount</th>\n",
       "      <th>tip_amount</th>\n",
       "      <th>tolls_amount</th>\n",
       "      <th>total_amount</th>\n",
       "      <th>day_of_week</th>\n",
       "      <th>Start_Zone</th>\n",
       "      <th>End_Zone</th>\n",
       "    </tr>\n",
       "  </thead>\n",
       "  <tbody>\n",
       "    <tr>\n",
       "      <th>0</th>\n",
       "      <td>2020-03-08 00:00:33</td>\n",
       "      <td>2020-03-08 00:11:14</td>\n",
       "      <td>2.0</td>\n",
       "      <td>1.06</td>\n",
       "      <td>148</td>\n",
       "      <td>4</td>\n",
       "      <td>1.0</td>\n",
       "      <td>8.0</td>\n",
       "      <td>2.36</td>\n",
       "      <td>0.0</td>\n",
       "      <td>14.16</td>\n",
       "      <td>Sunday</td>\n",
       "      <td>Madison</td>\n",
       "      <td>Arden Heights</td>\n",
       "    </tr>\n",
       "    <tr>\n",
       "      <th>1</th>\n",
       "      <td>2020-03-08 00:02:10</td>\n",
       "      <td>2020-03-08 00:06:24</td>\n",
       "      <td>1.0</td>\n",
       "      <td>0.73</td>\n",
       "      <td>74</td>\n",
       "      <td>41</td>\n",
       "      <td>2.0</td>\n",
       "      <td>5.0</td>\n",
       "      <td>0.00</td>\n",
       "      <td>0.0</td>\n",
       "      <td>6.30</td>\n",
       "      <td>Sunday</td>\n",
       "      <td>East Harlem South</td>\n",
       "      <td>Central Harlem North</td>\n",
       "    </tr>\n",
       "  </tbody>\n",
       "</table>\n",
       "</div>"
      ],
      "text/plain": [
       "  tpep_pickup_datetime tpep_dropoff_datetime  passenger_count  trip_distance  \\\n",
       "0  2020-03-08 00:00:33   2020-03-08 00:11:14              2.0           1.06   \n",
       "1  2020-03-08 00:02:10   2020-03-08 00:06:24              1.0           0.73   \n",
       "\n",
       "   PULocationID  DOLocationID  payment_type  fare_amount  tip_amount  \\\n",
       "0           148             4           1.0          8.0        2.36   \n",
       "1            74            41           2.0          5.0        0.00   \n",
       "\n",
       "   tolls_amount  total_amount day_of_week         Start_Zone  \\\n",
       "0           0.0         14.16      Sunday            Madison   \n",
       "1           0.0          6.30      Sunday  East Harlem South   \n",
       "\n",
       "               End_Zone  \n",
       "0         Arden Heights  \n",
       "1  Central Harlem North  "
      ]
     },
     "execution_count": 4,
     "metadata": {},
     "output_type": "execute_result"
    }
   ],
   "source": [
    "taxi_2020.head(2)"
   ]
  },
  {
   "cell_type": "markdown",
   "metadata": {},
   "source": [
    "# Question 1:\n",
    "The first questions this analysis will answer are the following:\n",
    "\n",
    "**1-** What was the most expensive trip before the pandemic and between what zones did it occur? \n",
    "\n",
    "**2-** What was the least expensive trip before the pandemic and where did it occur?\n",
    "\n",
    "**3-** Conversely, what were the most and least expensive trips during the pandemic and between which zones did they occur?"
   ]
  },
  {
   "cell_type": "markdown",
   "metadata": {},
   "source": [
    "### 1- What was the most expensive trip before the pandemic and between what zones?"
   ]
  },
  {
   "cell_type": "code",
   "execution_count": 5,
   "metadata": {},
   "outputs": [],
   "source": [
    "most_expensive = taxi_2019.sort_values('total_amount', ascending=False)"
   ]
  },
  {
   "cell_type": "code",
   "execution_count": 6,
   "metadata": {},
   "outputs": [
    {
     "data": {
      "text/html": [
       "<div>\n",
       "<style scoped>\n",
       "    .dataframe tbody tr th:only-of-type {\n",
       "        vertical-align: middle;\n",
       "    }\n",
       "\n",
       "    .dataframe tbody tr th {\n",
       "        vertical-align: top;\n",
       "    }\n",
       "\n",
       "    .dataframe thead th {\n",
       "        text-align: right;\n",
       "    }\n",
       "</style>\n",
       "<table border=\"1\" class=\"dataframe\">\n",
       "  <thead>\n",
       "    <tr style=\"text-align: right;\">\n",
       "      <th></th>\n",
       "      <th>tpep_pickup_datetime</th>\n",
       "      <th>tpep_dropoff_datetime</th>\n",
       "      <th>passenger_count</th>\n",
       "      <th>trip_distance</th>\n",
       "      <th>PULocationID</th>\n",
       "      <th>DOLocationID</th>\n",
       "      <th>payment_type</th>\n",
       "      <th>fare_amount</th>\n",
       "      <th>tip_amount</th>\n",
       "      <th>tolls_amount</th>\n",
       "      <th>total_amount</th>\n",
       "      <th>day_of_week</th>\n",
       "      <th>Start_Zone</th>\n",
       "      <th>End_Zone</th>\n",
       "    </tr>\n",
       "  </thead>\n",
       "  <tbody>\n",
       "    <tr>\n",
       "      <th>2014869</th>\n",
       "      <td>2019-03-15 19:00:45</td>\n",
       "      <td>2019-03-15 19:12:48</td>\n",
       "      <td>1.0</td>\n",
       "      <td>0.0</td>\n",
       "      <td>233</td>\n",
       "      <td>79</td>\n",
       "      <td>3.0</td>\n",
       "      <td>943274.8</td>\n",
       "      <td>141492.02</td>\n",
       "      <td>0.0</td>\n",
       "      <td>1084772.17</td>\n",
       "      <td>Friday</td>\n",
       "      <td>Union Sq</td>\n",
       "      <td>East Williamsburg</td>\n",
       "    </tr>\n",
       "  </tbody>\n",
       "</table>\n",
       "</div>"
      ],
      "text/plain": [
       "        tpep_pickup_datetime tpep_dropoff_datetime  passenger_count  \\\n",
       "2014869  2019-03-15 19:00:45   2019-03-15 19:12:48              1.0   \n",
       "\n",
       "         trip_distance  PULocationID  DOLocationID  payment_type  fare_amount  \\\n",
       "2014869            0.0           233            79           3.0     943274.8   \n",
       "\n",
       "         tip_amount  tolls_amount  total_amount day_of_week Start_Zone  \\\n",
       "2014869   141492.02           0.0    1084772.17      Friday   Union Sq   \n",
       "\n",
       "                  End_Zone  \n",
       "2014869  East Williamsburg  "
      ]
     },
     "execution_count": 6,
     "metadata": {},
     "output_type": "execute_result"
    }
   ],
   "source": [
    "most_expensive.head(1)"
   ]
  },
  {
   "cell_type": "markdown",
   "metadata": {},
   "source": [
    "As we can see above, according to our data **the most expensive trip in 2019 occured on March 15th and was for a total amount of a whopping $1,084,772.17. It was between Union Square and East Williamsburg.**\n",
    "\n",
    "It's however important to note that while this trip was recorded **it was not paid for**: according to our data dictionary, the payment_type '3.0' means that there was no charge. So while I will keep note of what the most expensive record is, I'd prefer to see what the most expensive trip **paid** for was. I will select the payment types of 1.0 and 2.0, since according to the dictionary these are for card and cash, respectively."
   ]
  },
  {
   "cell_type": "code",
   "execution_count": 13,
   "metadata": {},
   "outputs": [
    {
     "data": {
      "text/html": [
       "<div>\n",
       "<style scoped>\n",
       "    .dataframe tbody tr th:only-of-type {\n",
       "        vertical-align: middle;\n",
       "    }\n",
       "\n",
       "    .dataframe tbody tr th {\n",
       "        vertical-align: top;\n",
       "    }\n",
       "\n",
       "    .dataframe thead th {\n",
       "        text-align: right;\n",
       "    }\n",
       "</style>\n",
       "<table border=\"1\" class=\"dataframe\">\n",
       "  <thead>\n",
       "    <tr style=\"text-align: right;\">\n",
       "      <th></th>\n",
       "      <th>tpep_pickup_datetime</th>\n",
       "      <th>tpep_dropoff_datetime</th>\n",
       "      <th>passenger_count</th>\n",
       "      <th>trip_distance</th>\n",
       "      <th>PULocationID</th>\n",
       "      <th>DOLocationID</th>\n",
       "      <th>payment_type</th>\n",
       "      <th>fare_amount</th>\n",
       "      <th>tip_amount</th>\n",
       "      <th>tolls_amount</th>\n",
       "      <th>total_amount</th>\n",
       "      <th>day_of_week</th>\n",
       "      <th>Start_Zone</th>\n",
       "      <th>End_Zone</th>\n",
       "    </tr>\n",
       "  </thead>\n",
       "  <tbody>\n",
       "    <tr>\n",
       "      <th>26087240</th>\n",
       "      <td>2019-06-24 10:57:02</td>\n",
       "      <td>2019-06-24 11:10:43</td>\n",
       "      <td>1.0</td>\n",
       "      <td>0.0</td>\n",
       "      <td>229</td>\n",
       "      <td>43</td>\n",
       "      <td>2.0</td>\n",
       "      <td>346949.99</td>\n",
       "      <td>0.0</td>\n",
       "      <td>0.0</td>\n",
       "      <td>347035.05</td>\n",
       "      <td>Monday</td>\n",
       "      <td>Times Sq/Theatre District</td>\n",
       "      <td>Charleston/Tottenville</td>\n",
       "    </tr>\n",
       "  </tbody>\n",
       "</table>\n",
       "</div>"
      ],
      "text/plain": [
       "         tpep_pickup_datetime tpep_dropoff_datetime  passenger_count  \\\n",
       "26087240  2019-06-24 10:57:02   2019-06-24 11:10:43              1.0   \n",
       "\n",
       "          trip_distance  PULocationID  DOLocationID  payment_type  \\\n",
       "26087240            0.0           229            43           2.0   \n",
       "\n",
       "          fare_amount  tip_amount  tolls_amount  total_amount day_of_week  \\\n",
       "26087240    346949.99         0.0           0.0     347035.05      Monday   \n",
       "\n",
       "                         Start_Zone                End_Zone  \n",
       "26087240  Times Sq/Theatre District  Charleston/Tottenville  "
      ]
     },
     "execution_count": 13,
     "metadata": {},
     "output_type": "execute_result"
    }
   ],
   "source": [
    "most_expensive = most_expensive.loc[most_expensive['PULocationID'] != most_expensive['DOLocationID']]\n",
    "most_expensive = most_expensive.loc[most_expensive['payment_type'].isin([1.0, 2.0])]\n",
    "most_expensive.head(1)"
   ]
  },
  {
   "cell_type": "markdown",
   "metadata": {},
   "source": [
    "These results show the following: **the most expensive paid trip was for $347,035.05 and was between Times Square and Charleston/Tottenville. It lasted for about 13 minutes and was paid in cash.**"
   ]
  },
  {
   "cell_type": "markdown",
   "metadata": {},
   "source": [
    "### 2 - What was the least expensive trip before the pandemic and where did it occur?"
   ]
  },
  {
   "cell_type": "markdown",
   "metadata": {},
   "source": [
    "To answer this question, I'll first select the trips that have a total amount greater than $0.00 because anything less most likely means that no actual trip was taken or they may have been an error in the data entry.\n",
    "\n",
    "Then I'll sort my data in order from lowest 'total_amount' to highest and display the lowest entry only."
   ]
  },
  {
   "cell_type": "code",
   "execution_count": 8,
   "metadata": {},
   "outputs": [],
   "source": [
    "least_expensive = taxi_2019.loc[taxi_2019['total_amount'] > 0]"
   ]
  },
  {
   "cell_type": "code",
   "execution_count": 9,
   "metadata": {},
   "outputs": [],
   "source": [
    "least_expensive = least_expensive.sort_values('total_amount', ascending=True)"
   ]
  },
  {
   "cell_type": "code",
   "execution_count": 10,
   "metadata": {
    "scrolled": true
   },
   "outputs": [
    {
     "data": {
      "text/html": [
       "<div>\n",
       "<style scoped>\n",
       "    .dataframe tbody tr th:only-of-type {\n",
       "        vertical-align: middle;\n",
       "    }\n",
       "\n",
       "    .dataframe tbody tr th {\n",
       "        vertical-align: top;\n",
       "    }\n",
       "\n",
       "    .dataframe thead th {\n",
       "        text-align: right;\n",
       "    }\n",
       "</style>\n",
       "<table border=\"1\" class=\"dataframe\">\n",
       "  <thead>\n",
       "    <tr style=\"text-align: right;\">\n",
       "      <th></th>\n",
       "      <th>tpep_pickup_datetime</th>\n",
       "      <th>tpep_dropoff_datetime</th>\n",
       "      <th>passenger_count</th>\n",
       "      <th>trip_distance</th>\n",
       "      <th>PULocationID</th>\n",
       "      <th>DOLocationID</th>\n",
       "      <th>payment_type</th>\n",
       "      <th>fare_amount</th>\n",
       "      <th>tip_amount</th>\n",
       "      <th>tolls_amount</th>\n",
       "      <th>total_amount</th>\n",
       "      <th>day_of_week</th>\n",
       "      <th>Start_Zone</th>\n",
       "      <th>End_Zone</th>\n",
       "    </tr>\n",
       "  </thead>\n",
       "  <tbody>\n",
       "    <tr>\n",
       "      <th>24063600</th>\n",
       "      <td>2019-06-15 08:54:15</td>\n",
       "      <td>2019-06-15 08:54:59</td>\n",
       "      <td>1.0</td>\n",
       "      <td>0.0</td>\n",
       "      <td>236</td>\n",
       "      <td>236</td>\n",
       "      <td>2.0</td>\n",
       "      <td>0.01</td>\n",
       "      <td>0.0</td>\n",
       "      <td>0.0</td>\n",
       "      <td>0.01</td>\n",
       "      <td>Saturday</td>\n",
       "      <td>Upper East Side South</td>\n",
       "      <td>Upper East Side South</td>\n",
       "    </tr>\n",
       "  </tbody>\n",
       "</table>\n",
       "</div>"
      ],
      "text/plain": [
       "         tpep_pickup_datetime tpep_dropoff_datetime  passenger_count  \\\n",
       "24063600  2019-06-15 08:54:15   2019-06-15 08:54:59              1.0   \n",
       "\n",
       "          trip_distance  PULocationID  DOLocationID  payment_type  \\\n",
       "24063600            0.0           236           236           2.0   \n",
       "\n",
       "          fare_amount  tip_amount  tolls_amount  total_amount day_of_week  \\\n",
       "24063600         0.01         0.0           0.0          0.01    Saturday   \n",
       "\n",
       "                     Start_Zone               End_Zone  \n",
       "24063600  Upper East Side South  Upper East Side South  "
      ]
     },
     "execution_count": 10,
     "metadata": {},
     "output_type": "execute_result"
    }
   ],
   "source": [
    "least_expensive.head(1)"
   ]
  },
  {
   "cell_type": "markdown",
   "metadata": {},
   "source": [
    "According to this, the least expensive trip was **$0.01 and occured within one zone only, the Upper East Side South**. When examining the pickup and drop off times, I notice that there is only a 44 second difference between these two which tells me that while the meter was started, there most likely was no trip taken; the rider (or driver) probably changed his/her mind before taking off.\n",
    "\n",
    "In theory, this answer could answer our question. However, since the question is \"what is the least expensive ***trip***, and barely a trip was actually taken, I've decided to define what a trip actually means by again filtering my data to reflect only the trips that have different pick up and drop off locations:"
   ]
  },
  {
   "cell_type": "code",
   "execution_count": 12,
   "metadata": {},
   "outputs": [],
   "source": [
    "least_expensive = least_expensive.loc[least_expensive['PULocationID'] != least_expensive['DOLocationID']]"
   ]
  },
  {
   "cell_type": "code",
   "execution_count": 13,
   "metadata": {},
   "outputs": [
    {
     "data": {
      "text/html": [
       "<div>\n",
       "<style scoped>\n",
       "    .dataframe tbody tr th:only-of-type {\n",
       "        vertical-align: middle;\n",
       "    }\n",
       "\n",
       "    .dataframe tbody tr th {\n",
       "        vertical-align: top;\n",
       "    }\n",
       "\n",
       "    .dataframe thead th {\n",
       "        text-align: right;\n",
       "    }\n",
       "</style>\n",
       "<table border=\"1\" class=\"dataframe\">\n",
       "  <thead>\n",
       "    <tr style=\"text-align: right;\">\n",
       "      <th></th>\n",
       "      <th>tpep_pickup_datetime</th>\n",
       "      <th>tpep_dropoff_datetime</th>\n",
       "      <th>passenger_count</th>\n",
       "      <th>trip_distance</th>\n",
       "      <th>PULocationID</th>\n",
       "      <th>DOLocationID</th>\n",
       "      <th>payment_type</th>\n",
       "      <th>fare_amount</th>\n",
       "      <th>tip_amount</th>\n",
       "      <th>tolls_amount</th>\n",
       "      <th>total_amount</th>\n",
       "      <th>day_of_week</th>\n",
       "      <th>Start_Zone</th>\n",
       "      <th>End_Zone</th>\n",
       "    </tr>\n",
       "  </thead>\n",
       "  <tbody>\n",
       "    <tr>\n",
       "      <th>3304069</th>\n",
       "      <td>2019-03-21 05:21:43</td>\n",
       "      <td>2019-03-21 05:22:44</td>\n",
       "      <td>1.0</td>\n",
       "      <td>0.0</td>\n",
       "      <td>181</td>\n",
       "      <td>25</td>\n",
       "      <td>2.0</td>\n",
       "      <td>0.01</td>\n",
       "      <td>0.0</td>\n",
       "      <td>0.0</td>\n",
       "      <td>0.01</td>\n",
       "      <td>Thursday</td>\n",
       "      <td>Parkchester</td>\n",
       "      <td>Borough Park</td>\n",
       "    </tr>\n",
       "  </tbody>\n",
       "</table>\n",
       "</div>"
      ],
      "text/plain": [
       "        tpep_pickup_datetime tpep_dropoff_datetime  passenger_count  \\\n",
       "3304069  2019-03-21 05:21:43   2019-03-21 05:22:44              1.0   \n",
       "\n",
       "         trip_distance  PULocationID  DOLocationID  payment_type  fare_amount  \\\n",
       "3304069            0.0           181            25           2.0         0.01   \n",
       "\n",
       "         tip_amount  tolls_amount  total_amount day_of_week   Start_Zone  \\\n",
       "3304069         0.0           0.0          0.01    Thursday  Parkchester   \n",
       "\n",
       "             End_Zone  \n",
       "3304069  Borough Park  "
      ]
     },
     "execution_count": 13,
     "metadata": {},
     "output_type": "execute_result"
    }
   ],
   "source": [
    "least_expensive.head(1)"
   ]
  },
  {
   "cell_type": "markdown",
   "metadata": {},
   "source": [
    "And now we have a more appropriate answer to our question, which is: the cheapest trip occured on March 21, 2019, lasted for a minute and one second, and **cost a mere $0.01. It occured between the two zones of Parkchester and Borough Park.**"
   ]
  },
  {
   "cell_type": "markdown",
   "metadata": {},
   "source": [
    "### 3- What are the most and least expensive trips to occur during the pandemic?"
   ]
  },
  {
   "cell_type": "markdown",
   "metadata": {},
   "source": [
    "#### Most expensive:"
   ]
  },
  {
   "cell_type": "code",
   "execution_count": 3,
   "metadata": {},
   "outputs": [],
   "source": [
    "most_expensive = taxi_2020.sort_values('total_amount', ascending=False)"
   ]
  },
  {
   "cell_type": "code",
   "execution_count": 17,
   "metadata": {
    "scrolled": true
   },
   "outputs": [
    {
     "data": {
      "text/html": [
       "<div>\n",
       "<style scoped>\n",
       "    .dataframe tbody tr th:only-of-type {\n",
       "        vertical-align: middle;\n",
       "    }\n",
       "\n",
       "    .dataframe tbody tr th {\n",
       "        vertical-align: top;\n",
       "    }\n",
       "\n",
       "    .dataframe thead th {\n",
       "        text-align: right;\n",
       "    }\n",
       "</style>\n",
       "<table border=\"1\" class=\"dataframe\">\n",
       "  <thead>\n",
       "    <tr style=\"text-align: right;\">\n",
       "      <th></th>\n",
       "      <th>tpep_pickup_datetime</th>\n",
       "      <th>tpep_dropoff_datetime</th>\n",
       "      <th>passenger_count</th>\n",
       "      <th>trip_distance</th>\n",
       "      <th>PULocationID</th>\n",
       "      <th>DOLocationID</th>\n",
       "      <th>payment_type</th>\n",
       "      <th>fare_amount</th>\n",
       "      <th>tip_amount</th>\n",
       "      <th>tolls_amount</th>\n",
       "      <th>total_amount</th>\n",
       "      <th>day_of_week</th>\n",
       "      <th>Start_Zone</th>\n",
       "      <th>End_Zone</th>\n",
       "    </tr>\n",
       "  </thead>\n",
       "  <tbody>\n",
       "    <tr>\n",
       "      <th>366384</th>\n",
       "      <td>2020-03-10 09:58:11</td>\n",
       "      <td>2020-03-10 10:09:46</td>\n",
       "      <td>1.0</td>\n",
       "      <td>0.0</td>\n",
       "      <td>193</td>\n",
       "      <td>193</td>\n",
       "      <td>2.0</td>\n",
       "      <td>2.5</td>\n",
       "      <td>0.0</td>\n",
       "      <td>0.0</td>\n",
       "      <td>1000003.8</td>\n",
       "      <td>Tuesday</td>\n",
       "      <td>Randalls Island</td>\n",
       "      <td>Randalls Island</td>\n",
       "    </tr>\n",
       "  </tbody>\n",
       "</table>\n",
       "</div>"
      ],
      "text/plain": [
       "       tpep_pickup_datetime tpep_dropoff_datetime  passenger_count  \\\n",
       "366384  2020-03-10 09:58:11   2020-03-10 10:09:46              1.0   \n",
       "\n",
       "        trip_distance  PULocationID  DOLocationID  payment_type  fare_amount  \\\n",
       "366384            0.0           193           193           2.0          2.5   \n",
       "\n",
       "        tip_amount  tolls_amount  total_amount day_of_week       Start_Zone  \\\n",
       "366384         0.0           0.0     1000003.8     Tuesday  Randalls Island   \n",
       "\n",
       "               End_Zone  \n",
       "366384  Randalls Island  "
      ]
     },
     "execution_count": 17,
     "metadata": {},
     "output_type": "execute_result"
    }
   ],
   "source": [
    "most_expensive.head(1)"
   ]
  },
  {
   "cell_type": "markdown",
   "metadata": {},
   "source": [
    "As seen above, the most expensive trip during the peak of the pandemic was for **$1,000,003.8 and though it lasted for 11 minutes, was in one zone only, Randalls Island.**\n",
    "\n",
    "I will also have a look at the most expensive trip with a different pick up and drop off location:"
   ]
  },
  {
   "cell_type": "code",
   "execution_count": 5,
   "metadata": {},
   "outputs": [
    {
     "data": {
      "text/html": [
       "<div>\n",
       "<style scoped>\n",
       "    .dataframe tbody tr th:only-of-type {\n",
       "        vertical-align: middle;\n",
       "    }\n",
       "\n",
       "    .dataframe tbody tr th {\n",
       "        vertical-align: top;\n",
       "    }\n",
       "\n",
       "    .dataframe thead th {\n",
       "        text-align: right;\n",
       "    }\n",
       "</style>\n",
       "<table border=\"1\" class=\"dataframe\">\n",
       "  <thead>\n",
       "    <tr style=\"text-align: right;\">\n",
       "      <th></th>\n",
       "      <th>tpep_pickup_datetime</th>\n",
       "      <th>tpep_dropoff_datetime</th>\n",
       "      <th>passenger_count</th>\n",
       "      <th>trip_distance</th>\n",
       "      <th>PULocationID</th>\n",
       "      <th>DOLocationID</th>\n",
       "      <th>payment_type</th>\n",
       "      <th>fare_amount</th>\n",
       "      <th>tip_amount</th>\n",
       "      <th>tolls_amount</th>\n",
       "      <th>total_amount</th>\n",
       "      <th>day_of_week</th>\n",
       "      <th>Start_Zone</th>\n",
       "      <th>End_Zone</th>\n",
       "    </tr>\n",
       "  </thead>\n",
       "  <tbody>\n",
       "    <tr>\n",
       "      <th>9202389</th>\n",
       "      <td>2020-12-20 23:01:34</td>\n",
       "      <td>2020-12-20 23:14:21</td>\n",
       "      <td>1.0</td>\n",
       "      <td>4.51</td>\n",
       "      <td>249</td>\n",
       "      <td>50</td>\n",
       "      <td>1.0</td>\n",
       "      <td>6964.0</td>\n",
       "      <td>1393.56</td>\n",
       "      <td>0.0</td>\n",
       "      <td>8361.36</td>\n",
       "      <td>Sunday</td>\n",
       "      <td>Westchester Village/Unionport</td>\n",
       "      <td>Co-Op City</td>\n",
       "    </tr>\n",
       "  </tbody>\n",
       "</table>\n",
       "</div>"
      ],
      "text/plain": [
       "        tpep_pickup_datetime tpep_dropoff_datetime  passenger_count  \\\n",
       "9202389  2020-12-20 23:01:34   2020-12-20 23:14:21              1.0   \n",
       "\n",
       "         trip_distance  PULocationID  DOLocationID  payment_type  fare_amount  \\\n",
       "9202389           4.51           249            50           1.0       6964.0   \n",
       "\n",
       "         tip_amount  tolls_amount  total_amount day_of_week  \\\n",
       "9202389     1393.56           0.0       8361.36      Sunday   \n",
       "\n",
       "                            Start_Zone    End_Zone  \n",
       "9202389  Westchester Village/Unionport  Co-Op City  "
      ]
     },
     "execution_count": 5,
     "metadata": {},
     "output_type": "execute_result"
    }
   ],
   "source": [
    "most_expensive2 = most_expensive.loc[most_expensive['PULocationID'] != most_expensive['DOLocationID']]\n",
    "most_expensive2 = most_expensive2.loc[most_expensive2['payment_type'].isin([1.0, 2.0])]\n",
    "most_expensive2.head(1)"
   ]
  },
  {
   "cell_type": "markdown",
   "metadata": {},
   "source": [
    "**The most expensive trip with a drop off location different from the pickup location was for $8361.36 and was between Westchester Village/Unionport and Co-Op City.** It lasted for just under 15 minutes."
   ]
  },
  {
   "cell_type": "markdown",
   "metadata": {},
   "source": [
    "#### Least Expensive:"
   ]
  },
  {
   "cell_type": "code",
   "execution_count": 7,
   "metadata": {},
   "outputs": [
    {
     "data": {
      "text/html": [
       "<div>\n",
       "<style scoped>\n",
       "    .dataframe tbody tr th:only-of-type {\n",
       "        vertical-align: middle;\n",
       "    }\n",
       "\n",
       "    .dataframe tbody tr th {\n",
       "        vertical-align: top;\n",
       "    }\n",
       "\n",
       "    .dataframe thead th {\n",
       "        text-align: right;\n",
       "    }\n",
       "</style>\n",
       "<table border=\"1\" class=\"dataframe\">\n",
       "  <thead>\n",
       "    <tr style=\"text-align: right;\">\n",
       "      <th></th>\n",
       "      <th>tpep_pickup_datetime</th>\n",
       "      <th>tpep_dropoff_datetime</th>\n",
       "      <th>passenger_count</th>\n",
       "      <th>trip_distance</th>\n",
       "      <th>PULocationID</th>\n",
       "      <th>DOLocationID</th>\n",
       "      <th>payment_type</th>\n",
       "      <th>fare_amount</th>\n",
       "      <th>tip_amount</th>\n",
       "      <th>tolls_amount</th>\n",
       "      <th>total_amount</th>\n",
       "      <th>day_of_week</th>\n",
       "      <th>Start_Zone</th>\n",
       "      <th>End_Zone</th>\n",
       "    </tr>\n",
       "  </thead>\n",
       "  <tbody>\n",
       "    <tr>\n",
       "      <th>2806051</th>\n",
       "      <td>2020-07-17 21:38:05</td>\n",
       "      <td>2020-07-17 21:39:40</td>\n",
       "      <td>1.0</td>\n",
       "      <td>0.0</td>\n",
       "      <td>229</td>\n",
       "      <td>229</td>\n",
       "      <td>3.0</td>\n",
       "      <td>0.11</td>\n",
       "      <td>0.0</td>\n",
       "      <td>0.0</td>\n",
       "      <td>0.11</td>\n",
       "      <td>Friday</td>\n",
       "      <td>Times Sq/Theatre District</td>\n",
       "      <td>Times Sq/Theatre District</td>\n",
       "    </tr>\n",
       "  </tbody>\n",
       "</table>\n",
       "</div>"
      ],
      "text/plain": [
       "        tpep_pickup_datetime tpep_dropoff_datetime  passenger_count  \\\n",
       "2806051  2020-07-17 21:38:05   2020-07-17 21:39:40              1.0   \n",
       "\n",
       "         trip_distance  PULocationID  DOLocationID  payment_type  fare_amount  \\\n",
       "2806051            0.0           229           229           3.0         0.11   \n",
       "\n",
       "         tip_amount  tolls_amount  total_amount day_of_week  \\\n",
       "2806051         0.0           0.0          0.11      Friday   \n",
       "\n",
       "                        Start_Zone                   End_Zone  \n",
       "2806051  Times Sq/Theatre District  Times Sq/Theatre District  "
      ]
     },
     "execution_count": 7,
     "metadata": {},
     "output_type": "execute_result"
    }
   ],
   "source": [
    "least_expensive = taxi_2020.loc[taxi_2020['total_amount'] > 0]\n",
    "least_expensive = least_expensive.sort_values('total_amount', ascending=True)\n",
    "least_expensive.head(1)"
   ]
  },
  {
   "cell_type": "markdown",
   "metadata": {},
   "source": [
    "Again, the least expensive trip occured within **one zone only, Times Sq/Theatre District, and was $0.11**. While this trip lasted just over a minute, there most likely was no trip taken again; the rider (or driver) probably changed his/her mind before taking off.\n",
    "\n",
    "So again, I will find the least expensive ***paid*** trip with different pick up and drop off locations:"
   ]
  },
  {
   "cell_type": "code",
   "execution_count": 8,
   "metadata": {},
   "outputs": [
    {
     "data": {
      "text/html": [
       "<div>\n",
       "<style scoped>\n",
       "    .dataframe tbody tr th:only-of-type {\n",
       "        vertical-align: middle;\n",
       "    }\n",
       "\n",
       "    .dataframe tbody tr th {\n",
       "        vertical-align: top;\n",
       "    }\n",
       "\n",
       "    .dataframe thead th {\n",
       "        text-align: right;\n",
       "    }\n",
       "</style>\n",
       "<table border=\"1\" class=\"dataframe\">\n",
       "  <thead>\n",
       "    <tr style=\"text-align: right;\">\n",
       "      <th></th>\n",
       "      <th>tpep_pickup_datetime</th>\n",
       "      <th>tpep_dropoff_datetime</th>\n",
       "      <th>passenger_count</th>\n",
       "      <th>trip_distance</th>\n",
       "      <th>PULocationID</th>\n",
       "      <th>DOLocationID</th>\n",
       "      <th>payment_type</th>\n",
       "      <th>fare_amount</th>\n",
       "      <th>tip_amount</th>\n",
       "      <th>tolls_amount</th>\n",
       "      <th>total_amount</th>\n",
       "      <th>day_of_week</th>\n",
       "      <th>Start_Zone</th>\n",
       "      <th>End_Zone</th>\n",
       "    </tr>\n",
       "  </thead>\n",
       "  <tbody>\n",
       "    <tr>\n",
       "      <th>290897</th>\n",
       "      <td>2020-03-09 18:34:01</td>\n",
       "      <td>2020-03-09 19:31:29</td>\n",
       "      <td>2.0</td>\n",
       "      <td>17.4</td>\n",
       "      <td>43</td>\n",
       "      <td>132</td>\n",
       "      <td>2.0</td>\n",
       "      <td>0.0</td>\n",
       "      <td>0.0</td>\n",
       "      <td>0.0</td>\n",
       "      <td>0.3</td>\n",
       "      <td>Monday</td>\n",
       "      <td>Charleston/Tottenville</td>\n",
       "      <td>Kensington</td>\n",
       "    </tr>\n",
       "  </tbody>\n",
       "</table>\n",
       "</div>"
      ],
      "text/plain": [
       "       tpep_pickup_datetime tpep_dropoff_datetime  passenger_count  \\\n",
       "290897  2020-03-09 18:34:01   2020-03-09 19:31:29              2.0   \n",
       "\n",
       "        trip_distance  PULocationID  DOLocationID  payment_type  fare_amount  \\\n",
       "290897           17.4            43           132           2.0          0.0   \n",
       "\n",
       "        tip_amount  tolls_amount  total_amount day_of_week  \\\n",
       "290897         0.0           0.0           0.3      Monday   \n",
       "\n",
       "                    Start_Zone    End_Zone  \n",
       "290897  Charleston/Tottenville  Kensington  "
      ]
     },
     "execution_count": 8,
     "metadata": {},
     "output_type": "execute_result"
    }
   ],
   "source": [
    "least_expensive = least_expensive.loc[least_expensive['PULocationID'] != least_expensive['DOLocationID']]\n",
    "least_expensive = least_expensive.loc[least_expensive['payment_type'].isin([1.0, 2.0])]\n",
    "least_expensive.head(1)"
   ]
  },
  {
   "cell_type": "markdown",
   "metadata": {},
   "source": [
    "**The cheapest trip occured on March 20th, 2020, lasted for an hour, and cost a mere $0.30. It occured between the two zones of Charleston/Tottenville and Kensington and was paid in cash.** "
   ]
  },
  {
   "cell_type": "markdown",
   "metadata": {},
   "source": [
    "### Are there any major differences between pre-pandemic and peak pandemic most and least expensive trips?"
   ]
  },
  {
   "cell_type": "markdown",
   "metadata": {},
   "source": [
    "While there was some difference between the most expensive trips of 2019 and 2020: **338,673.69 dollars**  between the most expensive and **$0.29** between the cheapest, there isn't enough information to effectively determine if whether or not COVID-19 influenced these specific charges or not. Additionally, while it is possible these high fares are accurate, it is also likely that there could be an error in these figures and thus, another reason why it is not possible to surely decide that the coronavirus affected these specific trips."
   ]
  },
  {
   "cell_type": "markdown",
   "metadata": {},
   "source": [
    "# Question 3:\n",
    "**1-** What is the most popular payment method?\n",
    "\n",
    "**2-** Did the pandemic affect the payment methods?"
   ]
  },
  {
   "cell_type": "code",
   "execution_count": 17,
   "metadata": {},
   "outputs": [
    {
     "data": {
      "text/html": [
       "<div>\n",
       "<style scoped>\n",
       "    .dataframe tbody tr th:only-of-type {\n",
       "        vertical-align: middle;\n",
       "    }\n",
       "\n",
       "    .dataframe tbody tr th {\n",
       "        vertical-align: top;\n",
       "    }\n",
       "\n",
       "    .dataframe thead th {\n",
       "        text-align: right;\n",
       "    }\n",
       "</style>\n",
       "<table border=\"1\" class=\"dataframe\">\n",
       "  <thead>\n",
       "    <tr style=\"text-align: right;\">\n",
       "      <th></th>\n",
       "      <th>Payment Type</th>\n",
       "      <th>Count</th>\n",
       "    </tr>\n",
       "  </thead>\n",
       "  <tbody>\n",
       "    <tr>\n",
       "      <th>0</th>\n",
       "      <td>1.0</td>\n",
       "      <td>6842002</td>\n",
       "    </tr>\n",
       "    <tr>\n",
       "      <th>1</th>\n",
       "      <td>2.0</td>\n",
       "      <td>2671626</td>\n",
       "    </tr>\n",
       "    <tr>\n",
       "      <th>2</th>\n",
       "      <td>3.0</td>\n",
       "      <td>69552</td>\n",
       "    </tr>\n",
       "  </tbody>\n",
       "</table>\n",
       "</div>"
      ],
      "text/plain": [
       "   Payment Type    Count\n",
       "0           1.0  6842002\n",
       "1           2.0  2671626\n",
       "2           3.0    69552"
      ]
     },
     "execution_count": 17,
     "metadata": {},
     "output_type": "execute_result"
    }
   ],
   "source": [
    "payment_type_count = taxi_2020['payment_type'].value_counts()\n",
    "payment_types = pd.DataFrame(payment_type_count)\n",
    "#Rename the columns\n",
    "payment_types.reset_index(inplace=True)\n",
    "payment_types = payment_types.rename(columns = {'index':'Payment Type', 'payment_type':'Count'})\n",
    "payment_types.head(3)"
   ]
  },
  {
   "cell_type": "code",
   "execution_count": 20,
   "metadata": {},
   "outputs": [
    {
     "data": {
      "image/png": "[encoded data removed]",
      "text/plain": [
       "<Figure size 1008x504 with 1 Axes>"
      ]
     },
     "metadata": {
      "needs_background": "light"
     },
     "output_type": "display_data"
    }
   ],
   "source": [
    "plt.figure(figsize=(14,7))\n",
    "ax1 = sns.barplot(x=payment_types['Payment Type'], y=payment_types['Count'], palette='viridis')\n",
    "plt.xlabel('Count', fontsize=12)\n",
    "plt.ylabel('Payment Type', fontsize=12)\n",
    "plt.title('Payment Type Count By Payment During Pandemic', fontsize=14);\n",
    "sns.despine()\n",
    "plt.show()"
   ]
  },
  {
   "cell_type": "code",
   "execution_count": null,
   "metadata": {},
   "outputs": [],
   "source": []
  }
 ],
 "metadata": {
  "kernelspec": {
   "display_name": "Python 3",
   "language": "python",
   "name": "python3"
  },
  "language_info": {
   "codemirror_mode": {
    "name": "ipython",
    "version": 3
   },
   "file_extension": ".py",
   "mimetype": "text/x-python",
   "name": "python",
   "nbconvert_exporter": "python",
   "pygments_lexer": "ipython3",
   "version": "3.8.5"
  }
 },
 "nbformat": 4,
 "nbformat_minor": 4
}
